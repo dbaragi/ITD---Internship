{
  "nbformat": 4,
  "nbformat_minor": 0,
  "metadata": {
    "colab": {
      "provenance": []
    },
    "kernelspec": {
      "name": "python3",
      "display_name": "Python 3"
    },
    "language_info": {
      "name": "python"
    }
  },
  "cells": [
    {
      "cell_type": "code",
      "source": [
        "from google.colab import drive\n",
        "\n",
        "drive.mount('/content/gdrive')"
      ],
      "metadata": {
        "id": "daeiFVfi1XNT"
      },
      "execution_count": null,
      "outputs": []
    },
    {
      "cell_type": "code",
      "source": [
        "!ls '/content/gdrive/MyDrive/'"
      ],
      "metadata": {
        "colab": {
          "base_uri": "https://localhost:8080/"
        },
        "id": "sP3A9X5d1djk",
        "outputId": "81172577-ef44-4166-f36c-7b1d778c2eba"
      },
      "execution_count": null,
      "outputs": [
        {
          "output_type": "stream",
          "name": "stdout",
          "text": [
            " A3_files\t\t\t    MakeupMid.ipynb\n",
            " cleaned_data.csv\t\t   'Masters Capstone Project'\n",
            "'Colab Notebooks'\t\t    MS_Capstone_data\n",
            "'Copy of Deepti_Baragi2.ipynb'\t   'Recommender Systems - Project ppt.gslides'\n",
            " CV.gdoc\t\t\t    rs_proj\n",
            " CV.pdf\t\t\t\t    runs\n",
            " data_split.ipynb\t\t   'Social Media Mining Assign3'\n",
            " Deepti_Baragi\t\t\t    TC4\n",
            " Deepti_Baragi_CV.pdf\t\t   'Template - Cyberdome Intern Questionnaire.docx'\n",
            "'Deepti_Baragi – Homework 1.gdoc'   trail1.ipynb\n",
            "'Deepti shout-out.mov'\t\t    trial-1\n",
            " etext-all\t\t\t   'Untitled document.gdoc'\n",
            "'Fake Company Employees.gsheet'    'Untitled presentation (1).gslides'\n",
            "'Fake Company.gsheet'\t\t   'Untitled presentation.gslides'\n",
            "'Flash cards.gslides'\t\t    yelp_academic_dataset_review.json\n",
            " ImageSegmentationYOLOv8\n"
          ]
        }
      ]
    },
    {
      "cell_type": "code",
      "source": [
        "import os\n",
        "import numpy as np\n",
        "import cv2\n",
        "import tensorflow as tf\n",
        "from tensorflow.keras.models import load_model\n",
        "\n",
        "\n",
        "model_path = '/content/gdrive/MyDrive/ImageSegmentationYOLOv8/Image_Seg_Unet/trained_model.h5'\n",
        "model = load_model(model_path)\n",
        "\n",
        "\n",
        "def predict_on_images(model, images_folder, output_folder):\n",
        "\n",
        "    if not os.path.exists(output_folder):\n",
        "        os.makedirs(output_folder)\n",
        "\n",
        "    for image_filename in os.listdir(images_folder):\n",
        "        print(\"Processing image:\", image_filename)\n",
        "        img = cv2.imread(os.path.join(images_folder, image_filename))\n",
        "        if img is None:\n",
        "            print(\"Error: Unable to read image:\", image_filename)\n",
        "            continue\n",
        "        img = cv2.resize(img, (256, 256))  # Resize images to match the input shape\n",
        "        img = img / 255.0  # Normalize pixel values to [0, 1]\n",
        "\n",
        "        # Make prediction\n",
        "        prediction = model.predict(np.expand_dims(img, axis=0))[0]\n",
        "        prediction = (prediction > 0.5).astype(np.uint8) * 255  # Threshold prediction\n",
        "\n",
        "        # Save prediction\n",
        "        prediction_filename = os.path.join(output_folder, image_filename.split('.')[0] + '_prediction.png')\n",
        "        cv2.imwrite(prediction_filename, prediction)\n",
        "\n",
        "\n",
        "val_images_folder = '/content/gdrive/MyDrive/ImageSegmentationYOLOv8/Image_Seg_Unet/images/val/'\n",
        "output_folder = '/content/gdrive/MyDrive/ImageSegmentationYOLOv8/Image_Seg_Unet/predictions/'\n",
        "\n",
        "# Make predictions on validation images\n",
        "predict_on_images(model, val_images_folder, output_folder)\n"
      ],
      "metadata": {
        "colab": {
          "base_uri": "https://localhost:8080/"
        },
        "id": "rfeQXVZp2F_l",
        "outputId": "39dbc7d8-8090-4c1b-f9fe-eef15b62b592"
      },
      "execution_count": null,
      "outputs": [
        {
          "output_type": "stream",
          "name": "stdout",
          "text": [
            "Processing image: RIMG1052.JPG\n",
            "1/1 [==============================] - 2s 2s/step\n",
            "Processing image: RIMG1055.JPG\n",
            "1/1 [==============================] - 2s 2s/step\n",
            "Processing image: R ST SE FROM 28TH PL SE TO 28TH ST SE (Pave) 2.jpg\n",
            "1/1 [==============================] - 2s 2s/step\n",
            "Processing image: POMEROY RD SE From STANTON RD SE To SHERIDAN RD SE (3).jpg\n",
            "1/1 [==============================] - 2s 2s/step\n",
            "Processing image: RIMG1048.JPG\n",
            "1/1 [==============================] - 3s 3s/step\n",
            "Processing image: R ST SE FROM 28TH PL SE TO 28TH ST SE (Pave).jpg\n",
            "1/1 [==============================] - 2s 2s/step\n",
            "Processing image: Randle Cir SE from Branch Ave to Branch Ave (1).jpg\n",
            "1/1 [==============================] - 2s 2s/step\n",
            "Processing image: RESERVOIR RD NW FROM 36TH ST NW TO 37 TH ST NW (1).jpg\n",
            "1/1 [==============================] - 2s 2s/step\n",
            "Processing image: US-59 S of Lawrence 8-9-12 paver seg.JPG\n",
            "1/1 [==============================] - 2s 2s/step\n",
            "Processing image: RIMG1047.JPG\n",
            "1/1 [==============================] - 3s 3s/step\n",
            "Processing image: SARGENT RD NE FROM GALLATIN ST NE TO GALLOWAY ST NE.jpg\n",
            "1/1 [==============================] - 2s 2s/step\n",
            "Processing image: RIMG1064.JPG\n",
            "1/1 [==============================] - 2s 2s/step\n",
            "Processing image: Orange St SE from 4th St to 5th St (2).jpg\n",
            "1/1 [==============================] - 2s 2s/step\n",
            "Processing image: RANDOLPH ST NE FROM 4TH ST NE TO 5TH ST NE.jpg\n",
            "1/1 [==============================] - 2s 2s/step\n",
            "Processing image: RIMG1046.JPG\n",
            "1/1 [==============================] - 2s 2s/step\n",
            "Processing image: Valley Ave SE from 4th St to 9th St (2)A.jpg\n",
            "1/1 [==============================] - 3s 3s/step\n",
            "Processing image: PINEY BRANCH RD NW FROM DECATUR ST NW TO DELAFIELD PL NW (1).jpg\n",
            "1/1 [==============================] - 2s 2s/step\n",
            "Processing image: RIMG1051.JPG\n",
            "1/1 [==============================] - 2s 2s/step\n",
            "Processing image: RIMG1042.JPG\n",
            "1/1 [==============================] - 2s 2s/step\n",
            "Processing image: RIMG1368.JPG\n",
            "1/1 [==============================] - 2s 2s/step\n",
            "Processing image: South Capitol St BN- Overlook Ave SW to Halley Pl, MLK Jr Ave SE (1).jpg\n",
            "1/1 [==============================] - 3s 3s/step\n",
            "Processing image: PATTERSON ST NW FROM 32ND ST NW TO 33RD ST NW.jpg\n",
            "1/1 [==============================] - 2s 2s/step\n",
            "Processing image: POMEROY RD SE From STANTON RD SE To SHERIDAN RD SE (4).jpg\n",
            "1/1 [==============================] - 2s 2s/step\n"
          ]
        }
      ]
    },
    {
      "cell_type": "markdown",
      "source": [
        "Getting output of black for predicted segmentation. hence updated the code to visualize both the original validation images and their corresponding ground truth labels alongside the model predictions. This will help us understand why the model is failing to predict the segmentation markings."
      ],
      "metadata": {
        "id": "xeQ4v1Ni3z4z"
      }
    },
    {
      "cell_type": "code",
      "source": [],
      "metadata": {
        "id": "0OCmDKfv4B1W"
      },
      "execution_count": null,
      "outputs": []
    }
  ]
}